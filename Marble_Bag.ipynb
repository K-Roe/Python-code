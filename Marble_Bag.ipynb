{
 "cells": [
  {
   "cell_type": "markdown",
   "id": "a58a9b01",
   "metadata": {},
   "source": [
    "# Marble Picker"
   ]
  },
  {
   "cell_type": "code",
   "execution_count": 22,
   "id": "0d9605d9",
   "metadata": {},
   "outputs": [],
   "source": [
    "import random\n",
    "from collections import Counter\n",
    "from tabulate import tabulate\n",
    "import matplotlib.pyplot as plt\n",
    "from fractions import Fraction"
   ]
  },
  {
   "cell_type": "markdown",
   "id": "a868abeb",
   "metadata": {},
   "source": [
    "I start of with a bag of marbles wanting to find out what the percentage is off picking each color at random. "
   ]
  },
  {
   "cell_type": "code",
   "execution_count": 23,
   "id": "46ed46e0",
   "metadata": {},
   "outputs": [],
   "source": [
    "marble_Bag = [\"orange\", \"orange\", \"orange\", \"orange\", \"blue\", \"blue\", \"blue\", \"red\", \"red\", \"green\"]"
   ]
  },
  {
   "cell_type": "markdown",
   "id": "986fc6a3",
   "metadata": {},
   "source": [
    "This code will Give me a nice table of how many marbles are in the bag and what the percentage is off it being picked 1st"
   ]
  },
  {
   "cell_type": "code",
   "execution_count": 24,
   "id": "a238a424",
   "metadata": {
    "scrolled": true
   },
   "outputs": [
    {
     "name": "stdout",
     "output_type": "stream",
     "text": [
      "Color marble      Amount in bag  Percentage chance of first pull\n",
      "--------------  ---------------  ---------------------------------\n",
      "Orange                        4  40.0%\n",
      "Blue                          3  30.0%\n",
      "Red                           2  20.0%\n",
      "Green                         1  10.0%\n"
     ]
    }
   ],
   "source": [
    "duplicate_list = Counter(marble_Bag)\n",
    "\n",
    "\n",
    "orange = duplicate_list['orange']\n",
    "blue = duplicate_list['blue']\n",
    "red = duplicate_list['red']\n",
    "green = duplicate_list['green']\n",
    "\n",
    "orange_chance = str(orange / len(marble_Bag) * 100) + \"%\"\n",
    "blue_chance = str(blue / len(marble_Bag) * 100) + \"%\"\n",
    "red_chance = str(red / len(marble_Bag) * 100) + \"%\"\n",
    "green_chance = str(green / len(marble_Bag) * 100) + \"%\"\n",
    "\n",
    "\n",
    "\n",
    "\n",
    "\n",
    "data = [[\"Orange\", orange, orange_chance],\n",
    "        [\"Blue\", blue, blue_chance],\n",
    "        [\"Red\", red, red_chance],\n",
    "        [\"Green\", green, green_chance]]\n",
    "\n",
    "col_names = [\"Color marble\", \"Amount in bag\", \"Percentage chance of first pull\"]\n",
    "\n",
    "print(tabulate(data, headers=col_names))\n"
   ]
  },
  {
   "cell_type": "markdown",
   "id": "7122a524",
   "metadata": {},
   "source": [
    "This will give me a pie chart showing me the percentage of each color of marbles inside the bag"
   ]
  },
  {
   "cell_type": "code",
   "execution_count": 25,
   "id": "43b5a810",
   "metadata": {
    "scrolled": false
   },
   "outputs": [
    {
     "data": {
      "image/png": "[encoded data removed]",
      "text/plain": [
       "<Figure size 432x288 with 1 Axes>"
      ]
     },
     "metadata": {},
     "output_type": "display_data"
    }
   ],
   "source": [
    "labels = [\"Orange\", \"Blue\", \"Red\", \"Green\"]\n",
    "amount_In_Bag = [orange, blue, red, green]\n",
    "colors = [\"orange\", \"blue\", \"red\", \"green\"]\n",
    "plt.pie(amount_In_Bag, labels=labels,\n",
    "        autopct='%1.1f%%', shadow=True, startangle=140, colors = colors)\n",
    "plt.axis('equal')\n",
    "plt.show()"
   ]
  },
  {
   "cell_type": "markdown",
   "id": "c0ed2c15",
   "metadata": {},
   "source": [
    "You have a:\n",
    "4 in 10 chance to pick Orange first\n",
    "3 in 10 chance to pick Blue first\n",
    "2 in 10 chance to pick Red first\n",
    "1 in 10 chance to pick Green first"
   ]
  },
  {
   "cell_type": "markdown",
   "id": "7d033881",
   "metadata": {},
   "source": [
    "This code will run a loop that will pick a Marble at random and place it inside a new list while taking the marble picked out of the first list."
   ]
  },
  {
   "cell_type": "code",
   "execution_count": 26,
   "id": "9fe642aa",
   "metadata": {
    "scrolled": true
   },
   "outputs": [
    {
     "name": "stdout",
     "output_type": "stream",
     "text": [
      "1 blue\n",
      "2 orange\n",
      "3 blue\n",
      "4 blue\n",
      "5 orange\n",
      "6 red\n",
      "7 orange\n",
      "8 orange\n",
      "9 green\n",
      "10 red\n"
     ]
    }
   ],
   "source": [
    "picked_Marbles_List = []\n",
    "counter = 0\n",
    "i = len(picked_Marbles_List) -1\n",
    "while counter < 10:\n",
    "    counter += 1\n",
    "    i += 1\n",
    "    picked_Marbles_List.append(random.choice(marble_Bag))\n",
    "    marble_Bag.remove(picked_Marbles_List[i])\n",
    "\n",
    "    \n",
    "    \n",
    "for (i, item) in enumerate(picked_Marbles_List, start=1):\n",
    "    print(i, item)    \n",
    "\n",
    "\n",
    "\n",
    "\n"
   ]
  },
  {
   "cell_type": "markdown",
   "id": "b0e1074d",
   "metadata": {},
   "source": [
    "This code will produce a line graph showing the order picked out of the marble bag."
   ]
  },
  {
   "cell_type": "code",
   "execution_count": 27,
   "id": "5e206471",
   "metadata": {},
   "outputs": [
    {
     "data": {
      "image/png": "[encoded data removed]",
      "text/plain": [
       "<Figure size 432x288 with 1 Axes>"
      ]
     },
     "metadata": {
      "needs_background": "light"
     },
     "output_type": "display_data"
    }
   ],
   "source": [
    "plt.plot(picked_Marbles_List)\n",
    "plt.ylabel('Marbles')\n",
    "plt.xlabel(\"Order Picked\")\n",
    "plt.show()"
   ]
  },
  {
   "cell_type": "code",
   "execution_count": null,
   "id": "5bedad7b",
   "metadata": {},
   "outputs": [],
   "source": []
  }
 ],
 "metadata": {
  "kernelspec": {
   "display_name": "Python 3 (ipykernel)",
   "language": "python",
   "name": "python3"
  },
  "language_info": {
   "codemirror_mode": {
    "name": "ipython",
    "version": 3
   },
   "file_extension": ".py",
   "mimetype": "text/x-python",
   "name": "python",
   "nbconvert_exporter": "python",
   "pygments_lexer": "ipython3",
   "version": "3.9.12"
  }
 },
 "nbformat": 4,
 "nbformat_minor": 5
}
